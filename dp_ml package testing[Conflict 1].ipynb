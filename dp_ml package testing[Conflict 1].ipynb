{
 "cells": [
  {
   "cell_type": "markdown",
   "metadata": {},
   "source": [
    "# dp_ml package testing\n",
    "\n",
    "This notebook goes through a few examples with the dp_ml package:\n",
    "\n",
    "1. Import packages and data\n",
    "2. Show some examples of the data and processing methods\n",
    "3. Set up the learning method\n",
    "4. Train the model\n",
    "5. Predict using testing data"
   ]
  },
  {
   "cell_type": "markdown",
   "metadata": {},
   "source": [
    "## 1. Import packages and data:"
   ]
  },
  {
   "cell_type": "code",
   "execution_count": 1,
   "metadata": {
    "collapsed": false
   },
   "outputs": [
    {
     "name": "stderr",
     "output_type": "stream",
     "text": [
      "/Users/davidgarrett/anaconda3/lib/python3.6/importlib/_bootstrap.py:205: RuntimeWarning: compiletime version 3.5 of module 'tensorflow.python.framework.fast_tensor_util' does not match runtime version 3.6\n",
      "  return f(*args, **kwds)\n"
     ]
    },
    {
     "name": "stdout",
     "output_type": "stream",
     "text": [
      "Macintosh detected, data path found\n"
     ]
    }
   ],
   "source": [
    "import dp_ml\n",
    "import h5py\n",
    "import numpy as np\n",
    "import matplotlib.pyplot as plt\n",
    "from scipy.signal import argrelextrema\n",
    "import pywt\n",
    "import seaborn\n",
    "from statsmodels.robust import mad\n",
    "import tensorflow as tf\n",
    "from ipywidgets.widgets import interactive, interact\n",
    "import ipywidgets as widgets\n",
    "from tabulate import tabulate\n",
    "\n",
    "%matplotlib inline"
   ]
  },
  {
   "cell_type": "code",
   "execution_count": 2,
   "metadata": {
    "collapsed": false
   },
   "outputs": [],
   "source": [
    "#dbFile = h5py.File('/Users/davidgarrett/Google Drive/Work/Software/machine_learning/postpro/dp_ml_11-Mar-2018.hdf5')\n",
    "dbFile = h5py.File('/Users/davidgarrett/Google Drive/Work/Software/machine_learning/postpro/dp_ml_11-Mar-2018.hdf5')\n",
    "dbHier = 'Data/Simulation/CircWG'"
   ]
  },
  {
   "cell_type": "markdown",
   "metadata": {
    "collapsed": true
   },
   "source": [
    "## 2. Show examples of the data and processing methods"
   ]
  },
  {
   "cell_type": "code",
   "execution_count": 3,
   "metadata": {
    "collapsed": true
   },
   "outputs": [],
   "source": [
    "X_batch_test_f , y_batch_test_f = dp_ml.getBatchFromDB(dbFile, dbHier, 0, 385, freqOrTime='frequency', procFx = dp_ml.procIdentity)"
   ]
  },
  {
   "cell_type": "code",
   "execution_count": 18,
   "metadata": {
    "collapsed": false
   },
   "outputs": [
    {
     "name": "stdout",
     "output_type": "stream",
     "text": [
      "[  2.00000000e+09   2.00200000e+09   2.00400000e+09   2.00600000e+09\n",
      "   2.00800000e+09   2.01000000e+09   2.01200000e+09   2.01400000e+09\n",
      "   2.01600000e+09   2.01800000e+09]\n"
     ]
    }
   ],
   "source": [
    "print(X_batch_test_f[0,1,:10])"
   ]
  },
  {
   "cell_type": "code",
   "execution_count": 4,
   "metadata": {
    "collapsed": true
   },
   "outputs": [],
   "source": [
    "X_batch_t , y_batch_t = dp_ml.getBatchFromDB(dbFile, dbHier, 0, 10, freqOrTime='time')"
   ]
  },
  {
   "cell_type": "code",
   "execution_count": 5,
   "metadata": {
    "collapsed": false
   },
   "outputs": [
    {
     "data": {
      "text/plain": [
       "[<matplotlib.lines.Line2D at 0x11da94ba8>]"
      ]
     },
     "execution_count": 5,
     "metadata": {},
     "output_type": "execute_result"
    },
    {
     "data": {
      "image/png": "[encoded data removed]",
      "text/plain": [
       "<matplotlib.figure.Figure at 0x11da94080>"
      ]
     },
     "metadata": {},
     "output_type": "display_data"
    }
   ],
   "source": [
    "plt.plot(X_batch_t[5,2,:])"
   ]
  },
  {
   "cell_type": "code",
   "execution_count": 4,
   "metadata": {
    "collapsed": true
   },
   "outputs": [],
   "source": [
    "X_batch_max , y_batch_max = dp_ml.getBatchFromDB(dbFile, dbHier, 0, 1362, freqOrTime='time', procFx = dp_ml.getMax)"
   ]
  },
  {
   "cell_type": "code",
   "execution_count": 6,
   "metadata": {
    "collapsed": true
   },
   "outputs": [],
   "source": [
    "X_batch_max , y_batch_max = dp_ml.getBatchFromDB(dbFile, dbHier, 0, 1362, freqOrTime='time', procFx = dp_ml.getMaxAndEnergy)"
   ]
  },
  {
   "cell_type": "code",
   "execution_count": 7,
   "metadata": {
    "collapsed": false
   },
   "outputs": [
    {
     "name": "stdout",
     "output_type": "stream",
     "text": [
      "(1362, 5, 2)\n",
      "[ 1.  1.]\n"
     ]
    }
   ],
   "source": [
    "print(X_batch_max.shape)\n",
    "print(X_batch_max[0,0,:])"
   ]
  },
  {
   "cell_type": "code",
   "execution_count": 8,
   "metadata": {
    "collapsed": false
   },
   "outputs": [
    {
     "name": "stdout",
     "output_type": "stream",
     "text": [
      "(32, 5, 2)\n"
     ]
    },
    {
     "data": {
      "text/plain": [
       "<matplotlib.text.Text at 0x127b7f358>"
      ]
     },
     "execution_count": 8,
     "metadata": {},
     "output_type": "execute_result"
    },
    {
     "data": {
      "image/png": "[encoded data removed]",
      "text/plain": [
       "<matplotlib.figure.Figure at 0x11dc33e80>"
      ]
     },
     "metadata": {},
     "output_type": "display_data"
    },
    {
     "data": {
      "image/png": "[encoded data removed]",
      "text/plain": [
       "<matplotlib.figure.Figure at 0x127b00b70>"
      ]
     },
     "metadata": {},
     "output_type": "display_data"
    },
    {
     "data": {
      "image/png": "[encoded data removed]",
      "text/plain": [
       "<matplotlib.figure.Figure at 0x127b5fc50>"
      ]
     },
     "metadata": {},
     "output_type": "display_data"
    }
   ],
   "source": [
    "X_filt, y_filt = dp_ml.filterData(X_batch_max, y_batch_max, sig = 8, sepDist = 3)\n",
    "print(X_filt.shape)\n",
    "plt.plot(y_filt[:,0], X_filt[:,2,1],'o')\n",
    "plt.title('Sig = 1; sepDist = 30')\n",
    "plt.xlabel('Permittivity')\n",
    "plt.ylabel('Time of arrival')\n",
    "\n",
    "X_filt, y_filt = dp_ml.filterData(X_batch_max, y_batch_max, eps=20, sepDist = 1)\n",
    "plt.figure()\n",
    "plt.plot(y_filt[:,1], X_filt[:,2,0],'o')\n",
    "plt.title('Eps = 30; sepDist = 40')\n",
    "plt.xlabel('Conductivity')\n",
    "plt.ylabel('Peak magnitude')\n",
    "\n",
    "plt.figure()\n",
    "X_filt, y_filt = dp_ml.filterData(X_batch_max, y_batch_max, eps=10, sig = 1)\n",
    "plt.plot(X_filt[:,0,0], X_filt[:,2,1],'o')\n",
    "plt.title('Eps = 30; sig = 0')\n",
    "plt.xlabel('Separation distance')\n",
    "plt.ylabel('Time of arrival')"
   ]
  },
  {
   "cell_type": "code",
   "execution_count": 9,
   "metadata": {
    "collapsed": false
   },
   "outputs": [
    {
     "name": "stdout",
     "output_type": "stream",
     "text": [
      "2.0\n"
     ]
    }
   ],
   "source": [
    "X_filt, y_filt = dp_ml.filterData(X_batch_max, y_batch_max, eps=30, sig = 1)\n",
    "print(X_filt[1,0,0])"
   ]
  },
  {
   "cell_type": "markdown",
   "metadata": {},
   "source": [
    "### 2.1 Feature expansion:"
   ]
  },
  {
   "cell_type": "code",
   "execution_count": 10,
   "metadata": {
    "collapsed": false
   },
   "outputs": [
    {
     "data": {
      "text/plain": [
       "<matplotlib.text.Text at 0x127ed1c88>"
      ]
     },
     "execution_count": 10,
     "metadata": {},
     "output_type": "execute_result"
    },
    {
     "data": {
      "image/png": "[encoded data removed]",
      "text/plain": [
       "<matplotlib.figure.Figure at 0x1279e77f0>"
      ]
     },
     "metadata": {},
     "output_type": "display_data"
    },
    {
     "data": {
      "image/png": "[encoded data removed]",
      "text/plain": [
       "<matplotlib.figure.Figure at 0x127e22cc0>"
      ]
     },
     "metadata": {},
     "output_type": "display_data"
    },
    {
     "data": {
      "image/png": "[encoded data removed]",
      "text/plain": [
       "<matplotlib.figure.Figure at 0x127ec2c88>"
      ]
     },
     "metadata": {},
     "output_type": "display_data"
    }
   ],
   "source": [
    "sig = 1\n",
    "\n",
    "\n",
    "X_filt, y_filt = dp_ml.filterData(X_batch_max, y_batch_max, sig = sig, sepDist = 3)\n",
    "\n",
    "plt.figure()\n",
    "plt.plot((X_filt[:,2,1]),X_filt[:,2,0],'o')\n",
    "plt.xlabel('Transmission time of arrival')\n",
    "plt.ylabel('Transmission Magnitude')\n",
    "\n",
    "\n",
    "eps = 34\n",
    "\n",
    "\n",
    "plt.figure()\n",
    "X_filt, y_filt = dp_ml.filterData(X_batch_max, y_batch_max, eps=eps, sepDist = 3)\n",
    "plt.plot(y_filt[:,1], X_filt[:,2,1],'o')\n",
    "plt.title('Eps = 30; sig = 0')\n",
    "plt.xlabel('Conductivity')\n",
    "plt.ylabel('Time of arrival')\n",
    "\n",
    "X_filt, y_filt = dp_ml.filterData(X_batch_max, y_batch_max, eps=eps, sepDist = 3)\n",
    "plt.figure()\n",
    "plt.plot(y_filt[:,1], np.log(X_filt[:,2,0]),'o')\n",
    "plt.title('Eps = 30; sepDist = 30')\n",
    "plt.xlabel('Conductivity')\n",
    "plt.ylabel('Peak magnitude')"
   ]
  },
  {
   "cell_type": "code",
   "execution_count": 11,
   "metadata": {
    "collapsed": false
   },
   "outputs": [
    {
     "name": "stdout",
     "output_type": "stream",
     "text": [
      "(16, 10, 5000)\n"
     ]
    },
    {
     "data": {
      "text/plain": [
       "[<matplotlib.lines.Line2D at 0x12b190630>]"
      ]
     },
     "execution_count": 11,
     "metadata": {},
     "output_type": "execute_result"
    },
    {
     "data": {
      "image/png": "[encoded data removed]",
      "text/plain": [
       "<matplotlib.figure.Figure at 0x11db0eb00>"
      ]
     },
     "metadata": {},
     "output_type": "display_data"
    }
   ],
   "source": [
    "X_filt, y_filt = dp_ml.filterData(X_batch_test_f, y_batch_test_f, sig = 0, sepDist = 3)\n",
    "\n",
    "print(X_filt.shape)\n",
    "plt.plot(y_filt[:,0],X_filt[:,2,2500],'o')"
   ]
  },
  {
   "cell_type": "code",
   "execution_count": 19,
   "metadata": {
    "collapsed": true
   },
   "outputs": [],
   "source": [
    "X_batch_t, y_batch_t = dp_ml.getBatchFromDB(dbFile, dbHier, 0, 1350, freqOrTime='time', procFx = dp_ml.procIdentity)\n",
    "X_batch_f, y_batch_f = dp_ml.getBatchFromDB(dbFile, dbHier, 0, 1350, freqOrTime='frequency', procFx = dp_ml.procIdentity)"
   ]
  },
  {
   "cell_type": "code",
   "execution_count": 20,
   "metadata": {
    "collapsed": false
   },
   "outputs": [
    {
     "name": "stdout",
     "output_type": "stream",
     "text": [
      "(1362, 5, 2)\n"
     ]
    }
   ],
   "source": [
    "print(X_batch_max.shape)"
   ]
  },
  {
   "cell_type": "markdown",
   "metadata": {},
   "source": [
    "## 3. Set up the learning method\n",
    "\n",
    "### 3.1 Setting it up for getMax():"
   ]
  },
  {
   "cell_type": "code",
   "execution_count": 4,
   "metadata": {
    "collapsed": true
   },
   "outputs": [],
   "source": [
    "#init, saver, loss, training_op, X_ph, y, logits = dp_ml.setupModel(n_inputs = 10,n_hidden1 =10,n_hidden2=3, batch_size=15, activation_function = tf.nn.sigmoid)\n",
    "#init, saver, loss, training_op, X_ph, y, logits = dp_ml.setupModel(n_inputs = 10,n_hidden1 =30,n_hidden2=10, batch_size=100, activation_function = tf.nn.sigmoid)\n",
    "init, saver, loss, training_op, X_ph, y, logits = dp_ml.setupModel(n_inputs = 10,\n",
    "                        n_hidden1 =200,n_hidden2=100, batch_size=100, \n",
    "                        activation_function = tf.nn.relu,opt=\"adam\",\n",
    "                        learning_rate = 0.001) # changed from 0.01 (10 May 2018)"
   ]
  },
  {
   "cell_type": "markdown",
   "metadata": {},
   "source": [
    "## 4. Train the model"
   ]
  },
  {
   "cell_type": "code",
   "execution_count": 5,
   "metadata": {
    "collapsed": false
   },
   "outputs": [
    {
     "name": "stdout",
     "output_type": "stream",
     "text": [
      "Model filename:  ./Models/ANN_model_20180522-144723_1000-epochs_.ckpt\n",
      "WARNING:tensorflow:From /Users/davidgarrett/anaconda3/lib/python3.6/site-packages/tensorflow/python/util/tf_should_use.py:107: initialize_all_variables (from tensorflow.python.ops.variables) is deprecated and will be removed after 2017-03-02.\n",
      "Instructions for updating:\n",
      "Use `tf.global_variables_initializer` instead.\n",
      "0 Train loss: 6.86535400391\n",
      "1 Train loss: 3.75529418945\n",
      "2 Train loss: 2.54924713135\n",
      "3 Train loss: 2.44617752075\n",
      "4 Train loss: 2.6791305542\n",
      "5 Train loss: 1.90541946411\n",
      "6 Train loss: 2.56886627197\n",
      "7 Train loss: 1.89852325439\n",
      "8 Train loss: 1.84323867798\n",
      "9 Train loss: 2.06888885498\n",
      "10 Train loss: 1.60175888062\n",
      "11 Train loss: 1.73035354614\n",
      "12 Train loss: 1.60246765137\n",
      "13 Train loss: 1.80046859741\n",
      "14 Train loss: 1.68609817505\n",
      "15 Train loss: 1.566065979\n",
      "16 Train loss: 2.04645385742\n",
      "17 Train loss: 1.49026748657\n",
      "18 Train loss: 1.33096664429\n",
      "19 Train loss: 1.476355896\n",
      "20 Train loss: 1.47068466187\n",
      "21 Train loss: 1.34846832275\n",
      "22 Train loss: 1.25344932556\n",
      "23 Train loss: 1.1571156311\n",
      "24 Train loss: 1.08669563293\n",
      "25 Train loss: 1.06577362061\n",
      "26 Train loss: 0.898355941772\n",
      "27 Train loss: 0.903876495361\n",
      "28 Train loss: 0.927341003418\n",
      "29 Train loss: 0.937111816406\n",
      "30 Train loss: 0.817558822632\n",
      "31 Train loss: 0.97796257019\n",
      "32 Train loss: 0.565958976746\n",
      "33 Train loss: 0.691225585938\n",
      "34 Train loss: 0.740905456543\n",
      "35 Train loss: 0.611158828735\n",
      "36 Train loss: 0.485367736816\n",
      "37 Train loss: 0.53731098175\n",
      "38 Train loss: 0.446375427246\n",
      "39 Train loss: 0.582303504944\n",
      "40 Train loss: 0.418328895569\n",
      "41 Train loss: 0.463495903015\n",
      "42 Train loss: 0.422037200928\n",
      "43 Train loss: 0.27002363205\n",
      "44 Train loss: 0.346821937561\n",
      "45 Train loss: 0.427985610962\n",
      "46 Train loss: 0.349308700562\n",
      "47 Train loss: 0.350533943176\n",
      "48 Train loss: 0.286229763031\n",
      "49 Train loss: 0.369613342285\n",
      "50 Train loss: 0.281033706665\n",
      "51 Train loss: 0.246720237732\n",
      "52 Train loss: 0.243105621338\n",
      "53 Train loss: 0.281997509003\n",
      "54 Train loss: 0.216414966583\n",
      "55 Train loss: 0.267082748413\n",
      "56 Train loss: 0.233241920471\n",
      "57 Train loss: 0.231143112183\n",
      "58 Train loss: 0.284364910126\n",
      "59 Train loss: 0.198817329407\n",
      "60 Train loss: 0.193039188385\n",
      "61 Train loss: 0.293445014954\n",
      "62 Train loss: 0.165685977936\n",
      "63 Train loss: 0.145300683975\n",
      "64 Train loss: 0.152510633469\n",
      "65 Train loss: 0.168636722565\n",
      "66 Train loss: 0.120763025284\n",
      "67 Train loss: 0.131308898926\n",
      "68 Train loss: 0.100419139862\n",
      "69 Train loss: 0.167082233429\n",
      "70 Train loss: 0.291488456726\n",
      "71 Train loss: 0.16062456131\n",
      "72 Train loss: 0.221332683563\n",
      "73 Train loss: 0.0999038600922\n",
      "74 Train loss: 0.304460105896\n",
      "75 Train loss: 0.145571937561\n",
      "76 Train loss: 0.137332105637\n",
      "77 Train loss: 0.126239671707\n",
      "78 Train loss: 0.144110774994\n",
      "79 Train loss: 0.104075832367\n",
      "80 Train loss: 0.119504966736\n",
      "81 Train loss: 0.132075281143\n",
      "82 Train loss: 0.1140928936\n",
      "83 Train loss: 0.124816474915\n",
      "84 Train loss: 0.0944656944275\n",
      "85 Train loss: 0.0974647140503\n",
      "86 Train loss: 0.0980064487457\n",
      "87 Train loss: 0.103006496429\n",
      "88 Train loss: 0.133525743484\n",
      "89 Train loss: 0.127394018173\n",
      "90 Train loss: 0.0897360515594\n",
      "91 Train loss: 0.112970504761\n",
      "92 Train loss: 0.0852635574341\n",
      "93 Train loss: 0.0753040599823\n",
      "94 Train loss: 0.09631275177\n",
      "95 Train loss: 0.125566177368\n",
      "96 Train loss: 0.0844186782837\n",
      "97 Train loss: 0.0653527021408\n",
      "98 Train loss: 0.095454044342\n",
      "99 Train loss: 0.074177069664\n",
      "100 Train loss: 0.0446482419968\n",
      "101 Train loss: 0.0855661582947\n",
      "102 Train loss: 0.0751659965515\n",
      "103 Train loss: 0.0820053958893\n",
      "104 Train loss: 0.0882145309448\n",
      "105 Train loss: 0.0959510326385\n",
      "106 Train loss: 0.0790957927704\n",
      "107 Train loss: 0.0306169271469\n",
      "108 Train loss: 0.0452323722839\n",
      "109 Train loss: 0.0416293334961\n",
      "110 Train loss: 0.0728313398361\n",
      "111 Train loss: 0.0754694461823\n",
      "112 Train loss: 0.0647810745239\n",
      "113 Train loss: 0.0562048053741\n",
      "114 Train loss: 0.0662185382843\n",
      "115 Train loss: 0.0498509597778\n",
      "116 Train loss: 0.0642347335815\n",
      "117 Train loss: 0.0674653339386\n",
      "118 Train loss: 0.0516241693497\n",
      "119 Train loss: 0.0418442058563\n",
      "120 Train loss: 0.0748483467102\n",
      "121 Train loss: 0.0233736181259\n",
      "122 Train loss: 0.0293627619743\n",
      "123 Train loss: 0.0714646911621\n",
      "124 Train loss: 0.0391288018227\n",
      "125 Train loss: 0.0413590764999\n",
      "126 Train loss: 0.0416541814804\n",
      "127 Train loss: 0.0523303842545\n",
      "128 Train loss: 0.048982219696\n",
      "129 Train loss: 0.0337456536293\n",
      "130 Train loss: 0.0314029550552\n",
      "131 Train loss: 0.0411501646042\n",
      "132 Train loss: 0.0556375932693\n",
      "133 Train loss: 0.034558737278\n",
      "134 Train loss: 0.0529523324966\n",
      "135 Train loss: 0.0352111577988\n",
      "136 Train loss: 0.0365997123718\n",
      "137 Train loss: 0.0466024971008\n",
      "138 Train loss: 0.0455905294418\n",
      "139 Train loss: 0.0399533414841\n",
      "140 Train loss: 0.0364137911797\n",
      "141 Train loss: 0.0283820462227\n",
      "142 Train loss: 0.0370022368431\n",
      "143 Train loss: 0.0234158802032\n",
      "144 Train loss: 0.0384306120872\n",
      "145 Train loss: 0.0249839639664\n",
      "146 Train loss: 0.0257176280022\n",
      "147 Train loss: 0.0233848834038\n",
      "148 Train loss: 0.0224777030945\n",
      "149 Train loss: 0.0167758631706\n",
      "150 Train loss: 0.0259647583961\n",
      "151 Train loss: 0.0268944883347\n",
      "152 Train loss: 0.0306941962242\n",
      "153 Train loss: 0.0241898584366\n",
      "154 Train loss: 0.0282933783531\n",
      "155 Train loss: 0.0195356488228\n",
      "156 Train loss: 0.0285643649101\n",
      "157 Train loss: 0.0279732728004\n",
      "158 Train loss: 0.0342064094543\n",
      "159 Train loss: 0.0225891423225\n",
      "160 Train loss: 0.0312688779831\n",
      "161 Train loss: 0.0273075246811\n",
      "162 Train loss: 0.0276140832901\n",
      "163 Train loss: 0.0205380535126\n",
      "164 Train loss: 0.0252253103256\n",
      "165 Train loss: 0.021267592907\n",
      "166 Train loss: 0.0215084552765\n",
      "167 Train loss: 0.0181837701797\n",
      "168 Train loss: 0.0257702660561\n",
      "169 Train loss: 0.0179419374466\n",
      "170 Train loss: 0.0225075626373\n",
      "171 Train loss: 0.0256074929237\n",
      "172 Train loss: 0.0135473692417\n",
      "173 Train loss: 0.0236812257767\n",
      "174 Train loss: 0.0173219633102\n",
      "175 Train loss: 0.0139867138863\n",
      "176 Train loss: 0.0156704294682\n",
      "177 Train loss: 0.0133230221272\n",
      "178 Train loss: 0.0162170934677\n",
      "179 Train loss: 0.0213508152962\n",
      "180 Train loss: 0.0174593877792\n",
      "181 Train loss: 0.0317876839638\n",
      "182 Train loss: 0.0159785401821\n",
      "183 Train loss: 0.0197620773315\n",
      "184 Train loss: 0.0191565930843\n",
      "185 Train loss: 0.0187081968784\n",
      "186 Train loss: 0.0251442050934\n",
      "187 Train loss: 0.0187558746338\n",
      "188 Train loss: 0.026609814167\n",
      "189 Train loss: 0.0185712885857\n",
      "190 Train loss: 0.0138485503197\n",
      "191 Train loss: 0.0101450777054\n",
      "192 Train loss: 0.0127355253696\n",
      "193 Train loss: 0.0209383678436\n",
      "194 Train loss: 0.0175185728073\n",
      "195 Train loss: 0.0120169913769\n",
      "196 Train loss: 0.00787036299706\n",
      "197 Train loss: 0.0136538684368\n",
      "198 Train loss: 0.0151284086704\n",
      "199 Train loss: 0.0115170443058\n",
      "200 Train loss: 0.0128226423264\n",
      "201 Train loss: 0.015517206192\n",
      "202 Train loss: 0.0151122808456\n",
      "203 Train loss: 0.0132929301262\n",
      "204 Train loss: 0.0151734924316\n",
      "205 Train loss: 0.0114686059952\n",
      "206 Train loss: 0.0153872418404\n",
      "207 Train loss: 0.0107059156895\n",
      "208 Train loss: 0.0144356369972\n",
      "209 Train loss: 0.0111445653439\n",
      "210 Train loss: 0.0174546778202\n",
      "211 Train loss: 0.0123728132248\n",
      "212 Train loss: 0.00974462151527\n",
      "213 Train loss: 0.0167459583282\n",
      "214 Train loss: 0.00798647642136\n",
      "215 Train loss: 0.00604964017868\n",
      "216 Train loss: 0.00910021543503\n",
      "217 Train loss: 0.010964012146\n",
      "218 Train loss: 0.00964081704617\n",
      "219 Train loss: 0.012844107151\n",
      "220 Train loss: 0.0120965206623\n",
      "221 Train loss: 0.0101788163185\n",
      "222 Train loss: 0.0110169887543\n",
      "223 Train loss: 0.0184718978405\n",
      "224 Train loss: 0.0109955358505\n",
      "225 Train loss: 0.014280205965\n",
      "226 Train loss: 0.0145706355572\n",
      "227 Train loss: 0.00752361118793\n",
      "228 Train loss: 0.0138195621967\n",
      "229 Train loss: 0.00891203820705\n",
      "230 Train loss: 0.012624925375\n",
      "231 Train loss: 0.0118090724945\n",
      "232 Train loss: 0.0093321210146\n",
      "233 Train loss: 0.00716624975204\n",
      "234 Train loss: 0.00778250455856\n",
      "235 Train loss: 0.0159532380104\n",
      "236 Train loss: 0.0119093430042\n",
      "237 Train loss: 0.00984596848488\n",
      "238 Train loss: 0.00952516078949\n",
      "239 Train loss: 0.020555357933\n",
      "240 Train loss: 0.0131488192081\n",
      "241 Train loss: 0.0110186815262\n",
      "242 Train loss: 0.0107063126564\n",
      "243 Train loss: 0.00947329342365\n",
      "244 Train loss: 0.010375276804\n",
      "245 Train loss: 0.00878025352955\n",
      "246 Train loss: 0.0069900727272\n",
      "247 Train loss: 0.0048360991478\n",
      "248 Train loss: 0.0106560695171\n",
      "249 Train loss: 0.00894876241684\n",
      "250 Train loss: 0.00944521784782\n",
      "251 Train loss: 0.00919861555099\n",
      "252 Train loss: 0.00775873482227\n",
      "253 Train loss: 0.00816259682178\n",
      "254 Train loss: 0.0107796084881\n",
      "255 Train loss: 0.00679643988609\n",
      "256 Train loss: 0.00998409748077\n",
      "257 Train loss: 0.00926086246967\n",
      "258 Train loss: 0.00851634740829\n",
      "259 Train loss: 0.00877404034138\n",
      "260 Train loss: 0.0104169118404\n",
      "261 Train loss: 0.00665651381016\n",
      "262 Train loss: 0.00787405192852\n",
      "263 Train loss: 0.00573026120663\n",
      "264 Train loss: 0.00491302520037\n",
      "265 Train loss: 0.00653868734837\n",
      "266 Train loss: 0.00836941659451\n",
      "267 Train loss: 0.00725465416908\n",
      "268 Train loss: 0.00674696683884\n",
      "269 Train loss: 0.00659857094288\n",
      "270 Train loss: 0.00591142117977\n",
      "271 Train loss: 0.00605948805809\n",
      "272 Train loss: 0.00748487114906\n",
      "273 Train loss: 0.00826701104641\n",
      "274 Train loss: 0.00737534344196\n",
      "275 Train loss: 0.00570405364037\n",
      "276 Train loss: 0.00668897986412\n",
      "277 Train loss: 0.0080378305912\n",
      "278 Train loss: 0.00812386393547\n",
      "279 Train loss: 0.00812567830086\n",
      "280 Train loss: 0.00863227665424\n",
      "281 Train loss: 0.00708030879498\n",
      "282 Train loss: 0.00712643742561\n",
      "283 Train loss: 0.00696613490582\n",
      "284 Train loss: 0.00561714708805\n",
      "285 Train loss: 0.00621286571026\n",
      "286 Train loss: 0.0048494964838\n",
      "287 Train loss: 0.0106970381737\n",
      "288 Train loss: 0.00536272883415\n",
      "289 Train loss: 0.00721122920513\n",
      "290 Train loss: 0.00956342339516\n",
      "291 Train loss: 0.00821791529655\n",
      "292 Train loss: 0.00609574198723\n",
      "293 Train loss: 0.00577346920967\n",
      "294 Train loss: 0.00972716808319\n",
      "295 Train loss: 0.00471424907446\n",
      "296 Train loss: 0.00517544388771\n",
      "297 Train loss: 0.00477241814137\n",
      "298 Train loss: 0.0071004897356\n",
      "299 Train loss: 0.00630359888077\n",
      "300 Train loss: 0.00749770343304\n",
      "301 Train loss: 0.00701531648636\n",
      "302 Train loss: 0.00747203588486\n",
      "303 Train loss: 0.00801960587502\n",
      "304 Train loss: 0.00547869026661\n",
      "305 Train loss: 0.00514475762844\n",
      "306 Train loss: 0.00705202817917\n",
      "307 Train loss: 0.00502851307392\n",
      "308 Train loss: 0.00964756011963\n",
      "309 Train loss: 0.00515206098557\n",
      "310 Train loss: 0.00358646839857\n",
      "311 Train loss: 0.00595353484154\n",
      "312 Train loss: 0.0045020839572\n",
      "313 Train loss: 0.00520560204983\n",
      "314 Train loss: 0.00726218700409\n",
      "315 Train loss: 0.00577365756035\n",
      "316 Train loss: 0.00760339200497\n",
      "317 Train loss: 0.00517279803753\n",
      "318 Train loss: 0.00579270601273\n",
      "319 Train loss: 0.00562485992908\n",
      "320 Train loss: 0.0106123828888\n",
      "321 Train loss: 0.00556522607803\n",
      "322 Train loss: 0.00914024531841\n",
      "323 Train loss: 0.00542369782925\n",
      "324 Train loss: 0.00600656509399\n",
      "325 Train loss: 0.00823830246925\n",
      "326 Train loss: 0.00522662937641\n",
      "327 Train loss: 0.0074848228693\n",
      "328 Train loss: 0.0032402870059\n",
      "329 Train loss: 0.00551239907742\n",
      "330 Train loss: 0.00647305369377\n",
      "331 Train loss: 0.00556536853313\n",
      "332 Train loss: 0.00394775658846\n",
      "333 Train loss: 0.0062219697237\n",
      "334 Train loss: 0.00399463355541\n",
      "335 Train loss: 0.00621640563011\n",
      "336 Train loss: 0.00379345804453\n",
      "337 Train loss: 0.0058734536171\n",
      "338 Train loss: 0.00397326499224\n",
      "339 Train loss: 0.00515920460224\n",
      "340 Train loss: 0.00439389944077\n",
      "341 Train loss: 0.005752581954\n",
      "342 Train loss: 0.00521724164486\n",
      "343 Train loss: 0.00600337326527\n",
      "344 Train loss: 0.00451363712549\n",
      "345 Train loss: 0.00386161714792\n",
      "346 Train loss: 0.0108983361721\n",
      "347 Train loss: 0.00732649743557\n",
      "348 Train loss: 0.00384727776051\n",
      "349 Train loss: 0.00307214826345\n",
      "350 Train loss: 0.004582003057\n",
      "351 Train loss: 0.00509095549583\n",
      "352 Train loss: 0.00571408510208\n",
      "353 Train loss: 0.00363182246685\n",
      "354 Train loss: 0.00390898197889\n",
      "355 Train loss: 0.00512718379498\n",
      "356 Train loss: 0.00469789624214\n",
      "357 Train loss: 0.00463875591755\n",
      "358 Train loss: 0.00412202984095\n",
      "359 Train loss: 0.0044889113307\n",
      "360 Train loss: 0.00219948962331\n",
      "361 Train loss: 0.00440291047096\n",
      "362 Train loss: 0.00467800915241\n",
      "363 Train loss: 0.00329228520393\n",
      "364 Train loss: 0.00400156587362\n",
      "365 Train loss: 0.00610795497894\n",
      "366 Train loss: 0.00409906357527\n",
      "367 Train loss: 0.0036894184351\n",
      "368 Train loss: 0.00642544388771\n",
      "369 Train loss: 0.00298436880112\n",
      "370 Train loss: 0.00401284366846\n",
      "371 Train loss: 0.00442037314177\n",
      "372 Train loss: 0.00440175771713\n",
      "373 Train loss: 0.00352308243513\n",
      "374 Train loss: 0.00628803610802\n",
      "375 Train loss: 0.00361411273479\n",
      "376 Train loss: 0.00397361218929\n",
      "377 Train loss: 0.00463885813951\n",
      "378 Train loss: 0.00371133118868\n",
      "379 Train loss: 0.00553170979023\n",
      "380 Train loss: 0.00578580081463\n",
      "381 Train loss: 0.00468495726585\n",
      "382 Train loss: 0.00423535585403\n",
      "383 Train loss: 0.003199262321\n",
      "384 Train loss: 0.00431704431772\n",
      "385 Train loss: 0.00514333128929\n",
      "386 Train loss: 0.00518511414528\n",
      "387 Train loss: 0.00507502496243\n",
      "388 Train loss: 0.00429363846779\n",
      "389 Train loss: 0.00486113667488\n",
      "390 Train loss: 0.00631129026413\n",
      "391 Train loss: 0.00325090050697\n",
      "392 Train loss: 0.0041942307353\n",
      "393 Train loss: 0.0052495598793\n",
      "394 Train loss: 0.00329642474651\n",
      "395 Train loss: 0.00631188571453\n",
      "396 Train loss: 0.0025036740303\n",
      "397 Train loss: 0.00226214185357\n",
      "398 Train loss: 0.00482564687729\n",
      "399 Train loss: 0.00489665955305\n",
      "400 Train loss: 0.00366808921099\n",
      "401 Train loss: 0.00586879372597\n",
      "402 Train loss: 0.00363659709692\n",
      "403 Train loss: 0.0051885008812\n",
      "404 Train loss: 0.00335484325886\n",
      "405 Train loss: 0.00362447053194\n",
      "406 Train loss: 0.0035448384285\n",
      "407 Train loss: 0.00826602101326\n",
      "408 Train loss: 0.00327410429716\n",
      "409 Train loss: 0.0034202042222\n",
      "410 Train loss: 0.00310461461544\n",
      "411 Train loss: 0.00446011126041\n",
      "412 Train loss: 0.00623291313648\n",
      "413 Train loss: 0.00440035939217\n",
      "414 Train loss: 0.00443301379681\n",
      "415 Train loss: 0.00408032536507\n",
      "416 Train loss: 0.00305591464043\n",
      "417 Train loss: 0.00477549403906\n",
      "418 Train loss: 0.00334618031979\n",
      "419 Train loss: 0.00546707332134\n",
      "420 Train loss: 0.00368755072355\n",
      "421 Train loss: 0.00415218234062\n",
      "422 Train loss: 0.00364578783512\n",
      "423 Train loss: 0.00229265153408\n",
      "424 Train loss: 0.00395025700331\n",
      "425 Train loss: 0.00324227750301\n",
      "426 Train loss: 0.0036183822155\n",
      "427 Train loss: 0.00291973859072\n",
      "428 Train loss: 0.0038628283143\n",
      "429 Train loss: 0.00355136603117\n",
      "430 Train loss: 0.00326113343239\n",
      "431 Train loss: 0.00548635184765\n",
      "432 Train loss: 0.00527010798454\n",
      "433 Train loss: 0.00349177718163\n",
      "434 Train loss: 0.00345484435558\n",
      "435 Train loss: 0.00294306397438\n",
      "436 Train loss: 0.00407528072596\n",
      "437 Train loss: 0.00329751044512\n",
      "438 Train loss: 0.00341632336378\n",
      "439 Train loss: 0.00638842999935\n",
      "440 Train loss: 0.00442144215107\n",
      "441 Train loss: 0.00296395748854\n",
      "442 Train loss: 0.00315709233284\n",
      "443 Train loss: 0.00264278531075\n",
      "444 Train loss: 0.0022323140502\n",
      "445 Train loss: 0.00311883270741\n",
      "446 Train loss: 0.00301810353994\n",
      "447 Train loss: 0.00247724056244\n",
      "448 Train loss: 0.0033716237545\n",
      "449 Train loss: 0.004107888937\n",
      "450 Train loss: 0.00409320145845\n",
      "451 Train loss: 0.00431905478239\n",
      "452 Train loss: 0.00295441657305\n",
      "453 Train loss: 0.00341041177511\n",
      "454 Train loss: 0.00496802449226\n",
      "455 Train loss: 0.00381821364164\n",
      "456 Train loss: 0.00371129333973\n",
      "457 Train loss: 0.00377730816603\n",
      "458 Train loss: 0.00510397553444\n",
      "459 Train loss: 0.00189437642694\n",
      "460 Train loss: 0.00262921333313\n",
      "461 Train loss: 0.00397585362196\n",
      "462 Train loss: 0.00356243908405\n",
      "463 Train loss: 0.00501950860023\n",
      "464 Train loss: 0.00261915922165\n",
      "465 Train loss: 0.00268567949533\n",
      "466 Train loss: 0.00193615034223\n",
      "467 Train loss: 0.00321077346802\n",
      "468 Train loss: 0.00265600711107\n",
      "469 Train loss: 0.00491022616625\n",
      "470 Train loss: 0.00251943469048\n",
      "471 Train loss: 0.00332943916321\n",
      "472 Train loss: 0.00328402549028\n",
      "473 Train loss: 0.00468945235014\n",
      "474 Train loss: 0.00220353618264\n",
      "475 Train loss: 0.00537760674953\n",
      "476 Train loss: 0.00422213822603\n",
      "477 Train loss: 0.00357562184334\n",
      "478 Train loss: 0.00160196870565\n",
      "479 Train loss: 0.00368660122156\n",
      "480 Train loss: 0.00347906976938\n",
      "481 Train loss: 0.00274739772081\n",
      "482 Train loss: 0.00270930618048\n",
      "483 Train loss: 0.00260130286217\n",
      "484 Train loss: 0.0036935326457\n",
      "485 Train loss: 0.00204220280051\n",
      "486 Train loss: 0.00352545380592\n",
      "487 Train loss: 0.00458137065172\n",
      "488 Train loss: 0.00346930474043\n",
      "489 Train loss: 0.00350344359875\n",
      "490 Train loss: 0.00286512821913\n",
      "491 Train loss: 0.00380655556917\n",
      "492 Train loss: 0.00234459489584\n",
      "493 Train loss: 0.00168495982885\n",
      "494 Train loss: 0.00297290354967\n",
      "495 Train loss: 0.00200549170375\n",
      "496 Train loss: 0.00358948707581\n",
      "497 Train loss: 0.00671023845673\n",
      "498 Train loss: 0.00278045237064\n",
      "499 Train loss: 0.00348197132349\n",
      "500 Train loss: 0.00602741479874\n",
      "501 Train loss: 0.0031016433239\n",
      "502 Train loss: 0.00378071755171\n",
      "503 Train loss: 0.00399225503206\n",
      "504 Train loss: 0.00231930926442\n",
      "505 Train loss: 0.00345519036055\n",
      "506 Train loss: 0.00240768969059\n",
      "507 Train loss: 0.00327799975872\n",
      "508 Train loss: 0.00241074606776\n",
      "509 Train loss: 0.00232797369361\n",
      "510 Train loss: 0.00250787913799\n",
      "511 Train loss: 0.00298294842243\n",
      "512 Train loss: 0.00267603874207\n",
      "513 Train loss: 0.00275546342134\n",
      "514 Train loss: 0.00192309051752\n",
      "515 Train loss: 0.0024264164269\n",
      "516 Train loss: 0.00341957777739\n",
      "517 Train loss: 0.00458277970552\n",
      "518 Train loss: 0.00393318533897\n",
      "519 Train loss: 0.00283812701702\n",
      "520 Train loss: 0.00180138513446\n",
      "521 Train loss: 0.0017437748611\n",
      "522 Train loss: 0.00507107615471\n",
      "523 Train loss: 0.00358289062977\n",
      "524 Train loss: 0.00162603437901\n",
      "525 Train loss: 0.00249645859003\n",
      "526 Train loss: 0.00231060221791\n",
      "527 Train loss: 0.00183595910668\n",
      "528 Train loss: 0.00243119508028\n",
      "529 Train loss: 0.00298198401928\n",
      "530 Train loss: 0.00251892924309\n",
      "531 Train loss: 0.0022302749753\n",
      "532 Train loss: 0.00262182593346\n",
      "533 Train loss: 0.00308117091656\n",
      "534 Train loss: 0.00269510626793\n",
      "535 Train loss: 0.00223376274109\n",
      "536 Train loss: 0.00451233267784\n",
      "537 Train loss: 0.00217970103025\n",
      "538 Train loss: 0.00303844958544\n",
      "539 Train loss: 0.0052503991127\n",
      "540 Train loss: 0.00159315243363\n",
      "541 Train loss: 0.00186963781714\n",
      "542 Train loss: 0.00272577852011\n",
      "543 Train loss: 0.00223557338119\n",
      "544 Train loss: 0.00190640792251\n",
      "545 Train loss: 0.00356046527624\n",
      "546 Train loss: 0.00239854127169\n",
      "547 Train loss: 0.00292566537857\n",
      "548 Train loss: 0.00154374405742\n",
      "549 Train loss: 0.00268172651529\n",
      "550 Train loss: 0.00211959660053\n",
      "551 Train loss: 0.00227104887366\n",
      "552 Train loss: 0.00356968164444\n",
      "553 Train loss: 0.00233562320471\n",
      "554 Train loss: 0.00131123155355\n",
      "555 Train loss: 0.00320344209671\n",
      "556 Train loss: 0.00170099914074\n",
      "557 Train loss: 0.00195493578911\n",
      "558 Train loss: 0.00243788987398\n",
      "559 Train loss: 0.00206408679485\n",
      "560 Train loss: 0.00346079021692\n",
      "561 Train loss: 0.00280581831932\n",
      "562 Train loss: 0.00493739277124\n",
      "563 Train loss: 0.00260846853256\n",
      "564 Train loss: 0.00144500955939\n",
      "565 Train loss: 0.00218200623989\n",
      "566 Train loss: 0.00215009689331\n",
      "567 Train loss: 0.00229795947671\n",
      "568 Train loss: 0.00321813583374\n",
      "569 Train loss: 0.00226527199149\n",
      "570 Train loss: 0.00621471583843\n",
      "571 Train loss: 0.00382222533226\n",
      "572 Train loss: 0.00218339964747\n",
      "573 Train loss: 0.00452143102884\n",
      "574 Train loss: 0.00298450350761\n",
      "575 Train loss: 0.00317080557346\n",
      "576 Train loss: 0.00258785545826\n",
      "577 Train loss: 0.00185545191169\n",
      "578 Train loss: 0.00294720292091\n",
      "579 Train loss: 0.00243826404214\n",
      "580 Train loss: 0.00211785927415\n",
      "581 Train loss: 0.00142966389656\n",
      "582 Train loss: 0.0025388070941\n",
      "583 Train loss: 0.00155237182975\n",
      "584 Train loss: 0.00211732447147\n",
      "585 Train loss: 0.00173537746072\n",
      "586 Train loss: 0.00150659516454\n",
      "587 Train loss: 0.00202233433723\n",
      "588 Train loss: 0.00176602363586\n",
      "589 Train loss: 0.00170067965984\n",
      "590 Train loss: 0.00216765061021\n",
      "591 Train loss: 0.00195700347424\n",
      "592 Train loss: 0.00214791223407\n",
      "593 Train loss: 0.00344055324793\n",
      "594 Train loss: 0.0030332839489\n",
      "595 Train loss: 0.00234250947833\n",
      "596 Train loss: 0.001847435534\n",
      "597 Train loss: 0.00234106212854\n",
      "598 Train loss: 0.00273989021778\n",
      "599 Train loss: 0.00128029152751\n",
      "600 Train loss: 0.00222455486655\n",
      "601 Train loss: 0.00462284177542\n",
      "602 Train loss: 0.00347499996424\n",
      "603 Train loss: 0.00172393396497\n",
      "604 Train loss: 0.00173634916544\n",
      "605 Train loss: 0.00151620000601\n",
      "606 Train loss: 0.00234940797091\n",
      "607 Train loss: 0.00222396552563\n",
      "608 Train loss: 0.00266992479563\n",
      "609 Train loss: 0.00191949769855\n",
      "610 Train loss: 0.0018582996726\n",
      "611 Train loss: 0.00226309776306\n",
      "612 Train loss: 0.0018117493391\n",
      "613 Train loss: 0.00214480131865\n",
      "614 Train loss: 0.00202296689153\n",
      "615 Train loss: 0.00141221255064\n",
      "616 Train loss: 0.00262158542871\n",
      "617 Train loss: 0.00167781338096\n",
      "618 Train loss: 0.0022659252584\n",
      "619 Train loss: 0.00258677512407\n",
      "620 Train loss: 0.00229005008936\n",
      "621 Train loss: 0.00298883795738\n",
      "622 Train loss: 0.00351223647594\n",
      "623 Train loss: 0.00125276893377\n",
      "624 Train loss: 0.00137169748545\n",
      "625 Train loss: 0.00165288850665\n",
      "626 Train loss: 0.00210506096482\n",
      "627 Train loss: 0.00180099055171\n",
      "628 Train loss: 0.00248885378242\n",
      "629 Train loss: 0.00148000121117\n",
      "630 Train loss: 0.00218589782715\n",
      "631 Train loss: 0.00126407951117\n",
      "632 Train loss: 0.00126427546144\n",
      "633 Train loss: 0.00128395080566\n",
      "634 Train loss: 0.00179798483849\n",
      "635 Train loss: 0.00273232221603\n",
      "636 Train loss: 0.00625437140465\n",
      "637 Train loss: 0.00112854205072\n",
      "638 Train loss: 0.00156458199024\n",
      "639 Train loss: 0.00352920144796\n",
      "640 Train loss: 0.00158645734191\n",
      "641 Train loss: 0.00167876422405\n",
      "642 Train loss: 0.00112504273653\n",
      "643 Train loss: 0.00226889625192\n",
      "644 Train loss: 0.00246362298727\n",
      "645 Train loss: 0.00259323507547\n",
      "646 Train loss: 0.00119400590658\n",
      "647 Train loss: 0.00139472022653\n",
      "648 Train loss: 0.00125461637974\n",
      "649 Train loss: 0.00233474984765\n",
      "650 Train loss: 0.00169014856219\n",
      "651 Train loss: 0.00246325299144\n",
      "652 Train loss: 0.00177700445056\n",
      "653 Train loss: 0.001288754493\n",
      "654 Train loss: 0.00150252655149\n",
      "655 Train loss: 0.00189810931683\n",
      "656 Train loss: 0.00227149263024\n",
      "657 Train loss: 0.0020152887702\n",
      "658 Train loss: 0.00312173217535\n",
      "659 Train loss: 0.00176518321037\n",
      "660 Train loss: 0.00148239970207\n",
      "661 Train loss: 0.00279095292091\n",
      "662 Train loss: 0.00152170315385\n",
      "663 Train loss: 0.00237205907702\n",
      "664 Train loss: 0.00166485160589\n",
      "665 Train loss: 0.0016223192215\n",
      "666 Train loss: 0.00244456514716\n",
      "667 Train loss: 0.00196523100138\n",
      "668 Train loss: 0.00517793953419\n",
      "669 Train loss: 0.00185996115208\n",
      "670 Train loss: 0.00287450820208\n",
      "671 Train loss: 0.00119411066175\n",
      "672 Train loss: 0.00143758699298\n",
      "673 Train loss: 0.00190156668425\n",
      "674 Train loss: 0.00156315103173\n",
      "675 Train loss: 0.00422575265169\n",
      "676 Train loss: 0.00167513802648\n",
      "677 Train loss: 0.00138912901282\n",
      "678 Train loss: 0.00239979878068\n",
      "679 Train loss: 0.00262149631977\n",
      "680 Train loss: 0.00276689052582\n",
      "681 Train loss: 0.0024888241291\n",
      "682 Train loss: 0.00135454311967\n",
      "683 Train loss: 0.00160640865564\n",
      "684 Train loss: 0.00148376181722\n",
      "685 Train loss: 0.00140027329326\n",
      "686 Train loss: 0.00196938335896\n",
      "687 Train loss: 0.00260986298323\n",
      "688 Train loss: 0.00247539043427\n",
      "689 Train loss: 0.00172154888511\n",
      "690 Train loss: 0.00280390769243\n",
      "691 Train loss: 0.00218262180686\n",
      "692 Train loss: 0.00145309865475\n",
      "693 Train loss: 0.00178436890244\n",
      "694 Train loss: 0.00172226682305\n",
      "695 Train loss: 0.00107873603702\n",
      "696 Train loss: 0.00189547881484\n",
      "697 Train loss: 0.00231518939137\n",
      "698 Train loss: 0.00304075062275\n",
      "699 Train loss: 0.00230582922697\n",
      "700 Train loss: 0.00197332307696\n",
      "701 Train loss: 0.00193866610527\n",
      "702 Train loss: 0.001634837538\n",
      "703 Train loss: 0.00197518691421\n",
      "704 Train loss: 0.00245678782463\n",
      "705 Train loss: 0.00113783836365\n",
      "706 Train loss: 0.00187841236591\n",
      "707 Train loss: 0.00225308462977\n",
      "708 Train loss: 0.0014972782135\n",
      "709 Train loss: 0.00172918230295\n",
      "710 Train loss: 0.00253417819738\n",
      "711 Train loss: 0.00323991209269\n",
      "712 Train loss: 0.0024430064857\n",
      "713 Train loss: 0.00152419656515\n",
      "714 Train loss: 0.0019396160543\n",
      "715 Train loss: 0.00145381122828\n",
      "716 Train loss: 0.000989215821028\n",
      "717 Train loss: 0.00182461306453\n",
      "718 Train loss: 0.00249677702785\n",
      "719 Train loss: 0.0012941724062\n",
      "720 Train loss: 0.00164842247963\n",
      "721 Train loss: 0.00113604091108\n",
      "722 Train loss: 0.00176355838776\n",
      "723 Train loss: 0.00187149912119\n",
      "724 Train loss: 0.0011209333688\n",
      "725 Train loss: 0.00225105747581\n",
      "726 Train loss: 0.00145593106747\n",
      "727 Train loss: 0.00169911846519\n",
      "728 Train loss: 0.00144083857536\n",
      "729 Train loss: 0.00145384058356\n",
      "730 Train loss: 0.00128122925758\n",
      "731 Train loss: 0.00143149256706\n",
      "732 Train loss: 0.00155252248049\n",
      "733 Train loss: 0.00249320998788\n",
      "734 Train loss: 0.00249187335372\n",
      "735 Train loss: 0.00147123396397\n",
      "736 Train loss: 0.0019630266726\n",
      "737 Train loss: 0.0038551312685\n",
      "738 Train loss: 0.00271765112877\n",
      "739 Train loss: 0.00176927506924\n",
      "740 Train loss: 0.0013443928957\n",
      "741 Train loss: 0.00113292731345\n",
      "742 Train loss: 0.00262278527021\n",
      "743 Train loss: 0.00150979712605\n",
      "744 Train loss: 0.00170540004969\n",
      "745 Train loss: 0.00256400883198\n",
      "746 Train loss: 0.00209415480494\n",
      "747 Train loss: 0.0012298437953\n",
      "748 Train loss: 0.00219609051943\n",
      "749 Train loss: 0.00280316829681\n",
      "750 Train loss: 0.00173765644431\n",
      "751 Train loss: 0.00156029134989\n",
      "752 Train loss: 0.00278355628252\n",
      "753 Train loss: 0.00137496948242\n",
      "754 Train loss: 0.00128487199545\n",
      "755 Train loss: 0.00280478894711\n",
      "756 Train loss: 0.00138741061091\n",
      "757 Train loss: 0.00251681625843\n",
      "758 Train loss: 0.00203349456191\n",
      "759 Train loss: 0.00123698756099\n",
      "760 Train loss: 0.00155413627625\n",
      "761 Train loss: 0.00130293697119\n",
      "762 Train loss: 0.00139500662684\n",
      "763 Train loss: 0.00143501296639\n",
      "764 Train loss: 0.00163402140141\n",
      "765 Train loss: 0.00179629549384\n",
      "766 Train loss: 0.00247744768858\n",
      "767 Train loss: 0.00120535224676\n",
      "768 Train loss: 0.00100226767361\n",
      "769 Train loss: 0.00283031105995\n",
      "770 Train loss: 0.00145309999585\n",
      "771 Train loss: 0.00234997555614\n",
      "772 Train loss: 0.00166369795799\n",
      "773 Train loss: 0.00176526799798\n",
      "774 Train loss: 0.00315685033798\n",
      "775 Train loss: 0.00167135581374\n",
      "776 Train loss: 0.00193237453699\n",
      "777 Train loss: 0.00119806744158\n",
      "778 Train loss: 0.00127969235182\n",
      "779 Train loss: 0.00149911552668\n",
      "780 Train loss: 0.00218061164021\n",
      "781 Train loss: 0.0012245567143\n",
      "782 Train loss: 0.00159282237291\n",
      "783 Train loss: 0.00142240732908\n",
      "784 Train loss: 0.00157798707485\n",
      "785 Train loss: 0.0016447262466\n",
      "786 Train loss: 0.00216112479568\n",
      "787 Train loss: 0.0028544318676\n",
      "788 Train loss: 0.00166649535298\n",
      "789 Train loss: 0.00149963334203\n",
      "790 Train loss: 0.000867993459105\n",
      "791 Train loss: 0.00175120785832\n",
      "792 Train loss: 0.00106229394674\n",
      "793 Train loss: 0.000911565497518\n",
      "794 Train loss: 0.00115298308432\n",
      "795 Train loss: 0.00115291155875\n",
      "796 Train loss: 0.000937684625387\n",
      "797 Train loss: 0.00140231743455\n",
      "798 Train loss: 0.00170330122113\n",
      "799 Train loss: 0.00172585397959\n",
      "800 Train loss: 0.00143658027053\n",
      "801 Train loss: 0.00100200541317\n",
      "802 Train loss: 0.00376839071512\n",
      "803 Train loss: 0.00176212653518\n",
      "804 Train loss: 0.00129236251116\n",
      "805 Train loss: 0.00147661194205\n",
      "806 Train loss: 0.00169167563319\n",
      "807 Train loss: 0.00167078062892\n",
      "808 Train loss: 0.00125277131796\n",
      "809 Train loss: 0.00114864826202\n",
      "810 Train loss: 0.00177045553923\n",
      "811 Train loss: 0.00163166806102\n",
      "812 Train loss: 0.00146299824119\n",
      "813 Train loss: 0.00227663710713\n",
      "814 Train loss: 0.00144792735577\n",
      "815 Train loss: 0.0013013471663\n",
      "816 Train loss: 0.00202487468719\n",
      "817 Train loss: 0.00192241668701\n",
      "818 Train loss: 0.00136719852686\n",
      "819 Train loss: 0.0013243368268\n",
      "820 Train loss: 0.0013274307549\n",
      "821 Train loss: 0.00111096203327\n",
      "822 Train loss: 0.00165089994669\n",
      "823 Train loss: 0.00183086246252\n",
      "824 Train loss: 0.0016669292748\n",
      "825 Train loss: 0.00162990286946\n",
      "826 Train loss: 0.00219570964575\n",
      "827 Train loss: 0.000932979360223\n",
      "828 Train loss: 0.0012358853966\n",
      "829 Train loss: 0.00120048314333\n",
      "830 Train loss: 0.00158151984215\n",
      "831 Train loss: 0.0012573055923\n",
      "832 Train loss: 0.00357409864664\n",
      "833 Train loss: 0.00166653245687\n",
      "834 Train loss: 0.00174077376723\n",
      "835 Train loss: 0.00188387185335\n",
      "836 Train loss: 0.00262443244457\n",
      "837 Train loss: 0.00130310729146\n",
      "838 Train loss: 0.00145104467869\n",
      "839 Train loss: 0.00144867882133\n",
      "840 Train loss: 0.00110274009407\n",
      "841 Train loss: 0.00114737540483\n",
      "842 Train loss: 0.00164245381951\n",
      "843 Train loss: 0.00125470221043\n",
      "844 Train loss: 0.00105669021606\n",
      "845 Train loss: 0.00120254188776\n",
      "846 Train loss: 0.00120293557644\n",
      "847 Train loss: 0.00108904533088\n",
      "848 Train loss: 0.001271777004\n",
      "849 Train loss: 0.000873707309365\n",
      "850 Train loss: 0.0036646592617\n",
      "851 Train loss: 0.00244882062078\n",
      "852 Train loss: 0.00626155078411\n",
      "853 Train loss: 0.0020426595211\n",
      "854 Train loss: 0.0012613748014\n",
      "855 Train loss: 0.000960880815983\n",
      "856 Train loss: 0.001385204494\n",
      "857 Train loss: 0.00234708935022\n",
      "858 Train loss: 0.00131727010012\n",
      "859 Train loss: 0.00112316682935\n",
      "860 Train loss: 0.00108950488269\n",
      "861 Train loss: 0.0011080224812\n",
      "862 Train loss: 0.00103403456509\n",
      "863 Train loss: 0.00125713676214\n",
      "864 Train loss: 0.00100506477058\n",
      "865 Train loss: 0.0023061875999\n",
      "866 Train loss: 0.000983633771539\n",
      "867 Train loss: 0.0010204038769\n",
      "868 Train loss: 0.00162450566888\n",
      "869 Train loss: 0.00141016304493\n",
      "870 Train loss: 0.00132402420044\n",
      "871 Train loss: 0.00084295026958\n",
      "872 Train loss: 0.00280616134405\n",
      "873 Train loss: 0.0020708334446\n",
      "874 Train loss: 0.0011878759414\n",
      "875 Train loss: 0.00112790629268\n",
      "876 Train loss: 0.00188694253564\n",
      "877 Train loss: 0.00077846378088\n",
      "878 Train loss: 0.00120155528188\n",
      "879 Train loss: 0.00164399340749\n",
      "880 Train loss: 0.00113616853952\n",
      "881 Train loss: 0.00124300830066\n",
      "882 Train loss: 0.00182827413082\n",
      "883 Train loss: 0.00116816863418\n",
      "884 Train loss: 0.000941877737641\n",
      "885 Train loss: 0.00108531206846\n",
      "886 Train loss: 0.00280092954636\n",
      "887 Train loss: 0.00143508717418\n",
      "888 Train loss: 0.00109437435865\n",
      "889 Train loss: 0.00126368328929\n",
      "890 Train loss: 0.00215969339013\n",
      "891 Train loss: 0.00132439598441\n",
      "892 Train loss: 0.00124857805669\n",
      "893 Train loss: 0.00130308032036\n",
      "894 Train loss: 0.00181375831366\n",
      "895 Train loss: 0.00349390000105\n",
      "896 Train loss: 0.00139921799302\n",
      "897 Train loss: 0.00200483039021\n",
      "898 Train loss: 0.00122513577342\n",
      "899 Train loss: 0.00108378738165\n",
      "900 Train loss: 0.00129984527826\n",
      "901 Train loss: 0.00115245990455\n",
      "902 Train loss: 0.00100006759167\n",
      "903 Train loss: 0.00149807721376\n",
      "904 Train loss: 0.00162449881434\n",
      "905 Train loss: 0.00316837698221\n",
      "906 Train loss: 0.00144148945808\n",
      "907 Train loss: 0.00224728450179\n",
      "908 Train loss: 0.00115064293146\n",
      "909 Train loss: 0.0011747020483\n",
      "910 Train loss: 0.00166364520788\n",
      "911 Train loss: 0.00153582692146\n",
      "912 Train loss: 0.000939125269651\n",
      "913 Train loss: 0.00150905147195\n",
      "914 Train loss: 0.00279706686735\n",
      "915 Train loss: 0.00128420367837\n",
      "916 Train loss: 0.00362304717302\n",
      "917 Train loss: 0.00134836912155\n",
      "918 Train loss: 0.00112015895545\n",
      "919 Train loss: 0.00144546166062\n",
      "920 Train loss: 0.0010038959235\n",
      "921 Train loss: 0.00143120124936\n",
      "922 Train loss: 0.00109241425991\n",
      "923 Train loss: 0.00151725426316\n",
      "924 Train loss: 0.000722487866879\n",
      "925 Train loss: 0.000997083187103\n",
      "926 Train loss: 0.00146379485726\n",
      "927 Train loss: 0.00199524402618\n",
      "928 Train loss: 0.00107087977231\n",
      "929 Train loss: 0.00113361686468\n",
      "930 Train loss: 0.0010174497962\n",
      "931 Train loss: 0.000967912450433\n",
      "932 Train loss: 0.000800513997674\n",
      "933 Train loss: 0.0010032838583\n",
      "934 Train loss: 0.00118785761297\n",
      "935 Train loss: 0.00116113945842\n",
      "936 Train loss: 0.00120905779302\n",
      "937 Train loss: 0.00136650681496\n",
      "938 Train loss: 0.000875850766897\n",
      "939 Train loss: 0.00119799509645\n",
      "940 Train loss: 0.00103160686791\n",
      "941 Train loss: 0.00134881064296\n",
      "942 Train loss: 0.00125510066748\n",
      "943 Train loss: 0.0021187248826\n",
      "944 Train loss: 0.0013209399581\n",
      "945 Train loss: 0.00106943100691\n",
      "946 Train loss: 0.00197377130389\n",
      "947 Train loss: 0.00124771595001\n",
      "948 Train loss: 0.00130342781544\n",
      "949 Train loss: 0.00144058838487\n",
      "950 Train loss: 0.0010906393826\n",
      "951 Train loss: 0.000941132009029\n",
      "952 Train loss: 0.00193620055914\n",
      "953 Train loss: 0.00148652672768\n",
      "954 Train loss: 0.00130828946829\n",
      "955 Train loss: 0.00103839218616\n",
      "956 Train loss: 0.00456333458424\n",
      "957 Train loss: 0.00121547833085\n",
      "958 Train loss: 0.00312202990055\n",
      "959 Train loss: 0.00499747276306\n",
      "960 Train loss: 0.00227946162224\n",
      "961 Train loss: 0.00134037151933\n",
      "962 Train loss: 0.00135092973709\n",
      "963 Train loss: 0.00155603691936\n",
      "964 Train loss: 0.00128933623433\n",
      "965 Train loss: 0.000890021324158\n",
      "966 Train loss: 0.00130295336246\n",
      "967 Train loss: 0.00104249604046\n",
      "968 Train loss: 0.0013366612792\n",
      "969 Train loss: 0.00100363619626\n",
      "970 Train loss: 0.000939675122499\n",
      "971 Train loss: 0.00103790730238\n",
      "972 Train loss: 0.00113690502942\n",
      "973 Train loss: 0.0010347366333\n",
      "974 Train loss: 0.000997949391603\n",
      "975 Train loss: 0.00126030430198\n",
      "976 Train loss: 0.00179017826915\n",
      "977 Train loss: 0.00140919834375\n",
      "978 Train loss: 0.00131893575191\n",
      "979 Train loss: 0.00211703583598\n",
      "980 Train loss: 0.0017628274858\n",
      "981 Train loss: 0.0015966899693\n",
      "982 Train loss: 0.000981098115444\n",
      "983 Train loss: 0.00209694057703\n",
      "984 Train loss: 0.00167128905654\n",
      "985 Train loss: 0.00144216001034\n",
      "986 Train loss: 0.00120789855719\n",
      "987 Train loss: 0.00209423720837\n",
      "988 Train loss: 0.00135347485542\n",
      "989 Train loss: 0.00083568058908\n",
      "990 Train loss: 0.00100001335144\n",
      "991 Train loss: 0.00129592761397\n",
      "992 Train loss: 0.00106360167265\n",
      "993 Train loss: 0.001530598104\n",
      "994 Train loss: 0.00112230494618\n",
      "995 Train loss: 0.000931496843696\n",
      "996 Train loss: 0.00108654327691\n",
      "997 Train loss: 0.00110334970057\n",
      "998 Train loss: 0.000973197966814\n",
      "999 Train loss: 0.00136910185218\n"
     ]
    }
   ],
   "source": [
    "#dbFilename = '/Users/davidgarrett/Google Drive/Work/Software/machine_learning/postpro/dp_ml_07-Feb-2018.hdf5'\n",
    "#dbFilename = '/Users/davidgarrett/Google Drive/Work/Software/machine_learning/postpro/dp_ml_11-Mar-2018.hdf5'\n",
    "dbFilename = '/Users/davidgarrett/Google Drive/Work/Software/machine_learning/postpro/dp_ml_11-Mar-2018.hdf5'\n",
    "\n",
    "dbFolder = 'Data/Simulation/CircWG'\n",
    "#model_name = dp_ml.runModel(dbFilename, dbFolder, init, saver, loss, training_op, X_ph, y, procFx = dp_ml.getMax, freqOrTime = 'time',batch_size = 100, n_epochs = 10000)\n",
    "model_name = dp_ml.runModel(dbFilename, dbFolder, init, saver, loss, training_op, X_ph, y, procFx = dp_ml.getMaxAndEnergy, freqOrTime = 'time',batch_size = 100, n_epochs = 1000)"
   ]
  },
  {
   "cell_type": "markdown",
   "metadata": {},
   "source": [
    "## 5. Predict from the model"
   ]
  },
  {
   "cell_type": "code",
   "execution_count": 7,
   "metadata": {
    "collapsed": false
   },
   "outputs": [
    {
     "name": "stdout",
     "output_type": "stream",
     "text": [
      "INFO:tensorflow:Restoring parameters from ./Models/ANN_model_20180522-144723_1000-epochs_.ckpt\n",
      "[[3.0 3.0 0.7 0.8 7.0 1.2 2.5 0.0 0.4 0.0]\n",
      " [1.0 1.0 1.9 0.8 0.6 0.9 0.2 0.0 0.8 0.0]\n",
      " [1.0 1.0 0.7 0.8 6.4 0.9 2.2 0.0 0.4 0.0]\n",
      " [3.0 3.0 1.8 0.8 0.3 1.6 0.1 0.0 0.7 0.0]\n",
      " [1.0 1.0 1.7 0.8 0.6 1.0 0.2 0.0 0.8 0.0]\n",
      " [1.0 1.0 2.6 0.8 0.2 0.9 0.1 0.0 1.1 0.0]\n",
      " [3.0 3.0 1.1 0.8 0.2 1.2 0.1 0.0 0.6 0.0]\n",
      " [1.0 1.0 2.2 0.8 6.1 1.1 2.2 0.0 1.5 0.0]\n",
      " [1.0 1.0 2.3 0.8 0.6 1.0 0.2 0.0 1.0 0.0]\n",
      " [2.0 2.0 0.9 1.6 6.1 1.2 2.1 0.0 0.9 0.0]]\n",
      "--------------  --------------------------------------------------\n",
      "True eps:       [18.0 14.0 17.0 64.0 32.0 6.0 20.0 78.0 66.0 38.0]\n",
      "Predicted eps:  [18.3 14.1 17.6 64.1 32.6 6.5 20.4 78.9 66.6 37.8]\n",
      "True sig:       [0.0 6.0 0.0 4.0 8.0 8.0 3.0 0.0 10.0 0.0]\n",
      "Predicted sig:  [0.1 5.8 0.0 3.9 8.1 8.4 3.2 0.1 9.7 -0.0]\n",
      "--------------  --------------------------------------------------\n"
     ]
    }
   ],
   "source": [
    "#model_name = './Models/ANN_model_20180511-182150_10000-epochs_.ckpt'\n",
    "\n",
    "np.set_printoptions(formatter={'float': lambda x: \"{0:0.1f}\".format(x)})\n",
    "\n",
    "ind = np.arange(40,50)\n",
    "X_batch = X_batch_max[ind,:,:].reshape((10,10))\n",
    "y_pred = dp_ml.predictFromModel(model_name, X_batch, saver, logits, X_ph)\n",
    "\n",
    "print(X_batch)\n",
    "\n",
    "# print separation distance too...\n",
    "print(tabulate([['True eps: ', y_batch_max[ind,0]], ['Predicted eps: ', y_pred[:,0]], ['True sig: ',y_batch_max[ind,1]], ['Predicted sig: ', y_pred[:,1]]]))"
   ]
  },
  {
   "cell_type": "code",
   "execution_count": 8,
   "metadata": {
    "collapsed": true
   },
   "outputs": [],
   "source": [
    "dbFile_test = h5py.File('/Users/davidgarrett/Google Drive/Work/Software/machine_learning/postpro/dp_ml_test_data_11-May-2018.hdf5')\n",
    "dbFolder_test = 'Data/Simulation/CircWG'\n",
    "\n",
    "X_batch_test , y_batch_test = dp_ml.getBatchFromDB(dbFile_test, dbFolder_test, 0,18, freqOrTime='time', procFx = dp_ml.getMaxAndEnergy)\n"
   ]
  },
  {
   "cell_type": "code",
   "execution_count": 9,
   "metadata": {
    "collapsed": false
   },
   "outputs": [
    {
     "name": "stdout",
     "output_type": "stream",
     "text": [
      "INFO:tensorflow:Restoring parameters from ./Models/ANN_model_20180522-144723_1000-epochs_.ckpt\n",
      "----------------  ---------------------------------------------------------------------------\n",
      "True eps:         [66.2 31.4 31.4 31.4 31.4 66.2 66.2 31.4 66.2 66.2 31.4 66.2 66.2 66.2 66.2\n",
      "                   31.4 31.4 66.2]\n",
      "Predicted eps:    [63.3 29.5 31.4 31.1 31.4 63.5 63.3 31.6 63.4 63.3 31.4 63.4 63.5 63.4 63.4\n",
      "                   31.4 31.2 63.3]\n",
      "True sig:         [5.3 5.5 5.5 7.4 5.5 5.5 5.3 5.3 5.5 7.4 5.5 5.5 5.5 5.3 5.3 5.5 7.4 7.4]\n",
      "Predicted sig:    [4.6 3.5 3.6 4.9 3.6 4.1 4.6 3.6 4.7 5.3 3.6 4.7 4.1 4.1 4.1 3.6 4.6 5.3]\n",
      "Separation dist:  [1.4 2.9 1.4 1.4 1.4 1.7 1.4 1.7 1.4 1.7 1.4 1.4 1.7 1.7 1.7 1.4 1.7 1.7]\n",
      "----------------  ---------------------------------------------------------------------------\n"
     ]
    },
    {
     "data": {
      "text/plain": [
       "[<matplotlib.lines.Line2D at 0x124c4c0b8>]"
      ]
     },
     "execution_count": 9,
     "metadata": {},
     "output_type": "execute_result"
    },
    {
     "data": {
      "image/png": "[encoded data removed]",
      "text/plain": [
       "<Figure size 432x288 with 1 Axes>"
      ]
     },
     "metadata": {},
     "output_type": "display_data"
    }
   ],
   "source": [
    "X_batch = X_batch_test.reshape((18,10))\n",
    "y_pred = dp_ml.predictFromModel(model_name, X_batch, saver, logits, X_ph)\n",
    "\n",
    "# print separation distance too...\n",
    "print(tabulate([['True eps: ', y_batch_test[:,0]], ['Predicted eps: ', y_pred[:,0]], ['True sig: ',y_batch_test[:,1]], ['Predicted sig: ', y_pred[:,1]], ['Separation dist: ', X_batch[:,0]]]))\n",
    "\n",
    "error = (y_batch_test[:,0] - y_pred[:,0])**2 + (y_batch_test[:,1] - y_pred[:,1])**2\n",
    "\n",
    "#plt.plot(X_batch[:,0]%1, error,'o')\n",
    "plt.plot(y_batch_test[:,0], y_batch_test[:,1],'o')\n",
    "plt.plot(y_pred[:,0], y_pred[:,1],'or')"
   ]
  },
  {
   "cell_type": "code",
   "execution_count": 16,
   "metadata": {
    "collapsed": true
   },
   "outputs": [
    {
     "data": {
      "text/plain": [
       "[<matplotlib.lines.Line2D at 0x1944a4a8>]"
      ]
     },
     "execution_count": 16,
     "metadata": {},
     "output_type": "execute_result"
    },
    {
     "data": {
      "image/png": "[encoded data removed]",
      "text/plain": [
       "<matplotlib.figure.Figure at 0x1944a5c0>"
      ]
     },
     "metadata": {},
     "output_type": "display_data"
    }
   ],
   "source": [
    "plt.plot(y_batch_test[:,0],y_batch_test[:,1],'o')\n",
    "plt.plot(y_pred[:,0],y_pred[:,1],'or')\n"
   ]
  },
  {
   "cell_type": "code",
   "execution_count": 10,
   "metadata": {
    "collapsed": false
   },
   "outputs": [
    {
     "name": "stdout",
     "output_type": "stream",
     "text": [
      "./Models/ANN_model_20180511-182150_10000-epochs_.ckpt\n"
     ]
    }
   ],
   "source": [
    "print(model_name)"
   ]
  },
  {
   "cell_type": "code",
   "execution_count": 35,
   "metadata": {
    "collapsed": false
   },
   "outputs": [
    {
     "name": "stdout",
     "output_type": "stream",
     "text": [
      "(2, 5, 2)\n",
      "(2, 10)\n"
     ]
    }
   ],
   "source": [
    "t = np.zeros((2,5,2))\n",
    "print(t.shape)\n",
    "\n",
    "t = t.reshape(2,10)\n",
    "print(t.shape)"
   ]
  },
  {
   "cell_type": "markdown",
   "metadata": {},
   "source": [
    "## Scrap code:"
   ]
  },
  {
   "cell_type": "code",
   "execution_count": null,
   "metadata": {
    "collapsed": true
   },
   "outputs": [],
   "source": [
    "interact(plotMagPhase,eps=widgets.IntSlider(min=2,max=70,step=2,value=26),\n",
    "         sig=widgets.IntSlider(min=0,max=10,step=1,value=2),sepDist=widgets.IntSlider(min=10,max=50,step=10,value=30), \n",
    "         scale=widgets.FloatSlider(min=0.1,max=5.0,step=0.1,value=1.0, absPlot=True), \n",
    "         mode=['transmission','reflection'], domain = ['time', 'frequency']);"
   ]
  }
 ],
 "metadata": {
  "kernelspec": {
   "display_name": "Python 3",
   "language": "python",
   "name": "python3"
  },
  "language_info": {
   "codemirror_mode": {
    "name": "ipython",
    "version": 3
   },
   "file_extension": ".py",
   "mimetype": "text/x-python",
   "name": "python",
   "nbconvert_exporter": "python",
   "pygments_lexer": "ipython3",
   "version": "3.6.0"
  }
 },
 "nbformat": 4,
 "nbformat_minor": 2
}
